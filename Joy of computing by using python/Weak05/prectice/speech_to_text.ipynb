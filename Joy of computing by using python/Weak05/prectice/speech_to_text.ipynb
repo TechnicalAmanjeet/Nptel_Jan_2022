{
 "cells": [
  {
   "cell_type": "code",
   "execution_count": 1,
   "metadata": {},
   "outputs": [
    {
     "name": "stdout",
     "output_type": "stream",
     "text": [
      "0   Microsoft Sound Mapper - Input\n",
      "1   Microphone Array (Realtek High \n",
      "2   Stereo Mix (Realtek High Defini\n",
      "3   Microsoft Sound Mapper - Output\n",
      "4   Speakers (Realtek High Definiti\n",
      "5   Stereo Mix (Realtek HD Audio Stereo input)\n",
      "6   Speakers 1 (Realtek HD Audio output with SST)\n",
      "7   Speakers 2 (Realtek HD Audio output with SST)\n",
      "8   PC Speaker (Realtek HD Audio output with SST)\n",
      "9   Microphone Array 1 (Realtek HD Audio Mic input with SST)\n",
      "10   Microphone Array 2 (Realtek HD Audio Mic input with SST)\n",
      "11   Microphone Array 3 (Realtek HD Audio Mic input with SST)\n"
     ]
    }
   ],
   "source": [
    "import speech_recognition as sr\n",
    "\n",
    "for index,name in enumerate(sr.Microphone.list_microphone_names()):\n",
    "    print(index, \" \", name)"
   ]
  }
 ],
 "metadata": {
  "kernelspec": {
   "display_name": "Python 3",
   "language": "python",
   "name": "python3"
  },
  "language_info": {
   "codemirror_mode": {
    "name": "ipython",
    "version": 3
   },
   "file_extension": ".py",
   "mimetype": "text/x-python",
   "name": "python",
   "nbconvert_exporter": "python",
   "pygments_lexer": "ipython3",
   "version": "3.8.5"
  }
 },
 "nbformat": 4,
 "nbformat_minor": 4
}
